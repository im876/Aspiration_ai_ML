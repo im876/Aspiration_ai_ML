{
 "cells": [
  {
   "cell_type": "markdown",
   "metadata": {},
   "source": [
    "# Module 3"
   ]
  },
  {
   "cell_type": "markdown",
   "metadata": {},
   "source": [
    "### Query 3.1\n",
    "Import the file 'gold.csv' (you will find this in the intro section to download or in '/Data/gold.csv' if you are using the jupyter notebook), which contains the data of the last 2 years price action of Indian (MCX) gold standard. Explore the dataframe. You'd see 2 unique columns - 'Pred' and 'new'. One of the 2 columns is a linear combination of the OHLC prices with varying coefficients while the other is a polynomial function of the same inputs. Also, one of the 2 columns is partially filled.\n",
    "* Using linear regression, find the coefficients of the inputs and using the same trained model, complete the entire column.\n",
    "* Also, try to fit the other column as well using a new linear regression model. Check if the predictions are accurate. Mention which column is a linear function and which is polynomial.\n",
    "(Hint: Plotting a histogram & distplot helps in recognizing the discrepencies in prediction, if any.)"
   ]
  },
  {
   "cell_type": "code",
   "execution_count": 1,
   "metadata": {},
   "outputs": [],
   "source": [
    "import seaborn as sns\n",
    "import numpy as np\n",
    "import pandas as pd\n",
    "import matplotlib.pyplot as plt\n",
    "import datetime as dt\n",
    "import warnings\n",
    "warnings.filterwarnings('ignore')\n",
    "%matplotlib notebook"
   ]
  },
  {
   "cell_type": "code",
   "execution_count": 2,
   "metadata": {},
   "outputs": [],
   "source": [
    "dataset = pd.read_csv(\"GOLD.csv\")"
   ]
  },
  {
   "cell_type": "code",
   "execution_count": 3,
   "metadata": {},
   "outputs": [
    {
     "data": {
      "text/html": [
       "<div>\n",
       "<style scoped>\n",
       "    .dataframe tbody tr th:only-of-type {\n",
       "        vertical-align: middle;\n",
       "    }\n",
       "\n",
       "    .dataframe tbody tr th {\n",
       "        vertical-align: top;\n",
       "    }\n",
       "\n",
       "    .dataframe thead th {\n",
       "        text-align: right;\n",
       "    }\n",
       "</style>\n",
       "<table border=\"1\" class=\"dataframe\">\n",
       "  <thead>\n",
       "    <tr style=\"text-align: right;\">\n",
       "      <th></th>\n",
       "      <th>Price</th>\n",
       "      <th>Open</th>\n",
       "      <th>High</th>\n",
       "      <th>Low</th>\n",
       "      <th>Vol.</th>\n",
       "      <th>Change %</th>\n",
       "      <th>Pred</th>\n",
       "      <th>new</th>\n",
       "    </tr>\n",
       "    <tr>\n",
       "      <th>Date</th>\n",
       "      <th></th>\n",
       "      <th></th>\n",
       "      <th></th>\n",
       "      <th></th>\n",
       "      <th></th>\n",
       "      <th></th>\n",
       "      <th></th>\n",
       "      <th></th>\n",
       "    </tr>\n",
       "  </thead>\n",
       "  <tbody>\n",
       "    <tr>\n",
       "      <th>May 04, 2017</th>\n",
       "      <td>28060</td>\n",
       "      <td>28400</td>\n",
       "      <td>28482</td>\n",
       "      <td>28025</td>\n",
       "      <td>0.08K</td>\n",
       "      <td>-1.79%</td>\n",
       "      <td>738.0</td>\n",
       "      <td>117.570740</td>\n",
       "    </tr>\n",
       "    <tr>\n",
       "      <th>May 05, 2017</th>\n",
       "      <td>28184</td>\n",
       "      <td>28136</td>\n",
       "      <td>28382</td>\n",
       "      <td>28135</td>\n",
       "      <td>0.06K</td>\n",
       "      <td>0.44%</td>\n",
       "      <td>-146.0</td>\n",
       "      <td>295.430176</td>\n",
       "    </tr>\n",
       "    <tr>\n",
       "      <th>May 08, 2017</th>\n",
       "      <td>28119</td>\n",
       "      <td>28145</td>\n",
       "      <td>28255</td>\n",
       "      <td>28097</td>\n",
       "      <td>7.85K</td>\n",
       "      <td>-0.23%</td>\n",
       "      <td>30.0</td>\n",
       "      <td>132.123714</td>\n",
       "    </tr>\n",
       "    <tr>\n",
       "      <th>May 09, 2017</th>\n",
       "      <td>27981</td>\n",
       "      <td>28125</td>\n",
       "      <td>28192</td>\n",
       "      <td>27947</td>\n",
       "      <td>10.10K</td>\n",
       "      <td>-0.49%</td>\n",
       "      <td>357.0</td>\n",
       "      <td>101.298064</td>\n",
       "    </tr>\n",
       "    <tr>\n",
       "      <th>May 10, 2017</th>\n",
       "      <td>28007</td>\n",
       "      <td>28060</td>\n",
       "      <td>28146</td>\n",
       "      <td>27981</td>\n",
       "      <td>9.28K</td>\n",
       "      <td>0.09%</td>\n",
       "      <td>124.0</td>\n",
       "      <td>112.153318</td>\n",
       "    </tr>\n",
       "  </tbody>\n",
       "</table>\n",
       "</div>"
      ],
      "text/plain": [
       "              Price   Open   High    Low    Vol. Change %   Pred         new\n",
       "Date                                                                        \n",
       "May 04, 2017  28060  28400  28482  28025   0.08K   -1.79%  738.0  117.570740\n",
       "May 05, 2017  28184  28136  28382  28135   0.06K    0.44% -146.0  295.430176\n",
       "May 08, 2017  28119  28145  28255  28097   7.85K   -0.23%   30.0  132.123714\n",
       "May 09, 2017  27981  28125  28192  27947  10.10K   -0.49%  357.0  101.298064\n",
       "May 10, 2017  28007  28060  28146  27981   9.28K    0.09%  124.0  112.153318"
      ]
     },
     "execution_count": 3,
     "metadata": {},
     "output_type": "execute_result"
    }
   ],
   "source": [
    "dataset.Date.astype('datetime64')\n",
    "dataset.set_index('Date',inplace = True)\n",
    "dataset.head()"
   ]
  },
  {
   "cell_type": "code",
   "execution_count": 4,
   "metadata": {},
   "outputs": [],
   "source": [
    "#For Pred Column\n",
    "X_Pred = dataset.iloc[:,:4]\n",
    "y_Pred = dataset.iloc[:,-2]\n",
    "y_Pred = y_Pred.dropna()\n",
    "len_pred = len(y_Pred)"
   ]
  },
  {
   "cell_type": "code",
   "execution_count": 5,
   "metadata": {},
   "outputs": [],
   "source": [
    "val = int(len_pred/2)\n",
    "X_train = X_Pred[:val]\n",
    "X_test = X_Pred[val : len_pred]\n",
    "\n",
    "y_train = y_Pred[:val]\n",
    "y_test = y_Pred[val:len_pred]\n",
    "\n",
    "X_val_pred = X_Pred[len_pred:]"
   ]
  },
  {
   "cell_type": "code",
   "execution_count": 6,
   "metadata": {},
   "outputs": [],
   "source": [
    "from sklearn.linear_model import LinearRegression\n",
    "model_pred = LinearRegression()\n",
    "model_pred.fit(X_train,y_train)\n",
    "y_calc = model_pred.predict(X_test)"
   ]
  },
  {
   "cell_type": "code",
   "execution_count": 7,
   "metadata": {},
   "outputs": [
    {
     "data": {
      "text/plain": [
       "1.0"
      ]
     },
     "execution_count": 7,
     "metadata": {},
     "output_type": "execute_result"
    }
   ],
   "source": [
    "from sklearn.metrics import r2_score\n",
    "r2_score(y_test,y_calc)"
   ]
  },
  {
   "cell_type": "code",
   "execution_count": 8,
   "metadata": {},
   "outputs": [],
   "source": [
    "#For new column\n",
    "X_new = dataset.iloc[:,:4]\n",
    "y_new = dataset.iloc[:,-1]\n",
    "len_new = len(y_new)"
   ]
  },
  {
   "cell_type": "code",
   "execution_count": 9,
   "metadata": {},
   "outputs": [],
   "source": [
    "val = int(len_new/2)\n",
    "X_train = X_new[:val]\n",
    "X_test = X_new[val : len_new]\n",
    "\n",
    "y_train = y_new[:val]\n",
    "y_test = y_new[val:len_new]\n",
    "\n",
    "X_val_new = X_new[len_new:]"
   ]
  },
  {
   "cell_type": "code",
   "execution_count": 10,
   "metadata": {},
   "outputs": [],
   "source": [
    "model_new = LinearRegression()\n",
    "model_new.fit(X_train,y_train)\n",
    "y_pred_new = model_new.predict(X_test)"
   ]
  },
  {
   "cell_type": "code",
   "execution_count": 11,
   "metadata": {},
   "outputs": [
    {
     "data": {
      "text/plain": [
       "0.9999830622110687"
      ]
     },
     "execution_count": 11,
     "metadata": {},
     "output_type": "execute_result"
    }
   ],
   "source": [
    "r2_score(y_test,y_pred_new)"
   ]
  },
  {
   "cell_type": "markdown",
   "metadata": {},
   "source": [
    "#### Since r2 score of the pred column is greater than the score of new column,therefore it is linearly dependent with OHLC and new is polynomial function of OHLC"
   ]
  },
  {
   "cell_type": "code",
   "execution_count": 12,
   "metadata": {},
   "outputs": [],
   "source": [
    "y_pred = model_pred.predict(X_val_pred)\n",
    "dataset['Pred'][len_pred:] = y_pred"
   ]
  },
  {
   "cell_type": "markdown",
   "metadata": {},
   "source": [
    "CAPM CAPM Analysis and Beta Calculation using regression - <br>\n",
    "CAPM(Capital Asset Pricing Model) attempts to price securities by examining the relationship that exists between expected returns and risk. \n",
    "Read more about CAPM. (Investopedia CAPM reference) \n",
    "The Beta of an asset is a measure of the sensitivity of its returns relative to a market benchmark (usually a market index). How sensitive/insensitive is the returns of an asset to the overall market returns (usually a market index like S&P 500 index). What happens when the market jumps, does the returns of the asset jump accordingly or jump somehow? \n",
    "Read more about Beta (Investopedia Beta reference)\n"
   ]
  },
  {
   "cell_type": "markdown",
   "metadata": {},
   "source": [
    "### Query3.2\n",
    "Import the stock of your choosing AND the Nifty index. \n",
    "Using linear regression (OLS), calculate -\n",
    "* The daily Beta value for the past 3 months. (Daily= Daily returns)\n",
    "* The monthly Beta value. (Monthly= Monthly returns)<p>\n",
    "Refrain from using the (covariance(x,y)/variance(x)) formula.\n",
    "Attempt the question using regression.(Regression Reference) <br>\n",
    "Were the Beta values more or less than 1 ? What if it was negative ? <br>\n",
    "Discuss. Include a brief writeup in the bottom of your jupyter notebook with your inferences from the Beta values and regression results\n"
   ]
  },
  {
   "cell_type": "code",
   "execution_count": 13,
   "metadata": {},
   "outputs": [],
   "source": [
    "Nifty_df = pd.read_csv('Nifty50/Nifty50.csv')\n",
    "NCC_df = pd.read_csv('Small_Cap/NCC.csv')\n",
    "\n",
    "NCC_df = NCC_df[NCC_df.Series == 'EQ']\n",
    "\n",
    "NCC_df['Date'] = NCC_df['Date'].astype('datetime64')\n",
    "Nifty_df['Date'] = Nifty_df['Date'].astype('datetime64')\n",
    "\n",
    "NCC_df.set_index('Date',inplace = True)\n",
    "Nifty_df.set_index('Date',inplace = True)\n",
    "\n",
    "NCC_df['Day_Precentage_Change'] = NCC_df['Close Price'].pct_change()\n",
    "Nifty_df['Day_Precentage_Change'] = Nifty_df['Close'].pct_change()\n",
    "\n",
    "NCC_df.dropna(inplace = True)\n",
    "Nifty_df.dropna(inplace = True)"
   ]
  },
  {
   "cell_type": "code",
   "execution_count": 14,
   "metadata": {},
   "outputs": [],
   "source": [
    "import statsmodels.api as sm"
   ]
  },
  {
   "cell_type": "code",
   "execution_count": 15,
   "metadata": {},
   "outputs": [
    {
     "name": "stdout",
     "output_type": "stream",
     "text": [
      "                            OLS Regression Results                            \n",
      "==============================================================================\n",
      "Dep. Variable:                    NCC   R-squared:                       0.122\n",
      "Model:                            OLS   Adj. R-squared:                  0.112\n",
      "Method:                 Least Squares   F-statistic:                     12.21\n",
      "Date:                Sun, 14 Jul 2019   Prob (F-statistic):           0.000748\n",
      "Time:                        19:15:37   Log-Likelihood:                 213.22\n",
      "No. Observations:                  90   AIC:                            -422.4\n",
      "Df Residuals:                      88   BIC:                            -417.4\n",
      "Df Model:                           1                                         \n",
      "Covariance Type:            nonrobust                                         \n",
      "==============================================================================\n",
      "                 coef    std err          t      P>|t|      [0.025      0.975]\n",
      "------------------------------------------------------------------------------\n",
      "const          0.0003      0.002      0.144      0.886      -0.004       0.005\n",
      "Nifty          1.2350      0.354      3.494      0.001       0.533       1.938\n",
      "==============================================================================\n",
      "Omnibus:                       15.120   Durbin-Watson:                   1.951\n",
      "Prob(Omnibus):                  0.001   Jarque-Bera (JB):               20.020\n",
      "Skew:                           0.790   Prob(JB):                     4.49e-05\n",
      "Kurtosis:                       4.685   Cond. No.                         146.\n",
      "==============================================================================\n",
      "\n",
      "Warnings:\n",
      "[1] Standard Errors assume that the covariance matrix of the errors is correctly specified.\n"
     ]
    }
   ],
   "source": [
    "Daily_return_df = pd.concat([Nifty_df.iloc[-90:,-1:],NCC_df.iloc[-90:,-1:]],axis = 1)\n",
    "Daily_return_df.columns = ['Nifty','NCC']\n",
    "\n",
    "X = Daily_return_df['Nifty']\n",
    "y = Daily_return_df['NCC']\n",
    "\n",
    "X1 = sm.add_constant(X)\n",
    "\n",
    "model_beta = sm.OLS(y,X1)\n",
    "results = model_beta.fit()\n",
    "print(results.summary())"
   ]
  },
  {
   "cell_type": "markdown",
   "metadata": {},
   "source": [
    "#### The value of beta for last 3 months on daily returns comes out to be 1.2350 which is greater than 1, this means that the stock NCC more volatile than Nifty on a daily basis."
   ]
  },
  {
   "cell_type": "code",
   "execution_count": 16,
   "metadata": {},
   "outputs": [
    {
     "name": "stdout",
     "output_type": "stream",
     "text": [
      "                            OLS Regression Results                            \n",
      "==============================================================================\n",
      "Dep. Variable:                    NCC   R-squared:                       0.331\n",
      "Model:                            OLS   Adj. R-squared:                  0.301\n",
      "Method:                 Least Squares   F-statistic:                     10.91\n",
      "Date:                Sun, 14 Jul 2019   Prob (F-statistic):            0.00324\n",
      "Time:                        19:15:39   Log-Likelihood:                 23.801\n",
      "No. Observations:                  24   AIC:                            -43.60\n",
      "Df Residuals:                      22   BIC:                            -41.25\n",
      "Df Model:                           1                                         \n",
      "Covariance Type:            nonrobust                                         \n",
      "==============================================================================\n",
      "                 coef    std err          t      P>|t|      [0.025      0.975]\n",
      "------------------------------------------------------------------------------\n",
      "const         -0.0121      0.020     -0.604      0.552      -0.054       0.029\n",
      "Nifty          2.3394      0.708      3.302      0.003       0.870       3.809\n",
      "==============================================================================\n",
      "Omnibus:                        1.567   Durbin-Watson:                   1.625\n",
      "Prob(Omnibus):                  0.457   Jarque-Bera (JB):                1.146\n",
      "Skew:                           0.524   Prob(JB):                        0.564\n",
      "Kurtosis:                       2.782   Cond. No.                         37.0\n",
      "==============================================================================\n",
      "\n",
      "Warnings:\n",
      "[1] Standard Errors assume that the covariance matrix of the errors is correctly specified.\n"
     ]
    }
   ],
   "source": [
    "monthly_return_df = pd.concat([Nifty_df['Close'].resample(\"M\").mean(),NCC_df['Close Price'].resample(\"M\").mean()]\n",
    "                              ,axis = 1)\n",
    "monthly_return_df.columns = ['Nifty','NCC']\n",
    "\n",
    "monthly_return_df = monthly_return_df.pct_change()\n",
    "monthly_return_df.dropna(inplace = True)\n",
    "\n",
    "X = monthly_return_df['Nifty']\n",
    "y = monthly_return_df['NCC']\n",
    "\n",
    "X1 = sm.add_constant(X)\n",
    "\n",
    "model_beta_month = sm.OLS(y,X1)\n",
    "results_month = model_beta_month.fit()\n",
    "print(results_month.summary())"
   ]
  },
  {
   "cell_type": "markdown",
   "metadata": {},
   "source": [
    "#### The value of beta for monthly return comes out to be 2.3394 which is greater than 1, this means that the stock NCC has an has very high volatility than Nifty on monthly basis."
   ]
  },
  {
   "cell_type": "markdown",
   "metadata": {},
   "source": [
    "A stock with a beta of:\n",
    "* 0 indicates their is no correlation between chosen benchmark and itself\n",
    "* 1 indicates a stock has the same volatility as the market\n",
    "* more than 1 indicates a stock that’s more volatile than its benchmark\n",
    "* less than 1 is less volatile than the benchmark\n",
    "* less than 0 i.e negative beta indicates inverse relation"
   ]
  },
  {
   "cell_type": "code",
   "execution_count": null,
   "metadata": {},
   "outputs": [],
   "source": []
  },
  {
   "cell_type": "code",
   "execution_count": null,
   "metadata": {},
   "outputs": [],
   "source": []
  },
  {
   "cell_type": "code",
   "execution_count": null,
   "metadata": {},
   "outputs": [],
   "source": []
  }
 ],
 "metadata": {
  "kernelspec": {
   "display_name": "Python 3",
   "language": "python",
   "name": "python3"
  },
  "language_info": {
   "codemirror_mode": {
    "name": "ipython",
    "version": 3
   },
   "file_extension": ".py",
   "mimetype": "text/x-python",
   "name": "python",
   "nbconvert_exporter": "python",
   "pygments_lexer": "ipython3",
   "version": "3.7.3"
  }
 },
 "nbformat": 4,
 "nbformat_minor": 2
}
