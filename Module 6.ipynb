{
 "cells": [
  {
   "cell_type": "markdown",
   "metadata": {},
   "source": [
    "# Module 6"
   ]
  },
  {
   "cell_type": "code",
   "execution_count": 1,
   "metadata": {},
   "outputs": [],
   "source": [
    "import seaborn as sns\n",
    "import numpy as np\n",
    "import pandas as pd\n",
    "import matplotlib.pyplot as plt\n",
    "import datetime as dt\n",
    "import warnings\n",
    "warnings.filterwarnings('ignore')\n",
    "%matplotlib notebook"
   ]
  },
  {
   "cell_type": "markdown",
   "metadata": {},
   "source": [
    "### Query 6.1\n",
    "Create a table/data frame with the closing prices of 30 different stocks, with 10 from each of the caps"
   ]
  },
  {
   "cell_type": "markdown",
   "metadata": {},
   "source": [
    "Small Caps"
   ]
  },
  {
   "cell_type": "code",
   "execution_count": 2,
   "metadata": {},
   "outputs": [],
   "source": [
    "df = pd.read_csv('Small_Cap/ASHOKA.csv')\n",
    "df['Date'] = df['Date'].astype('datetime64')\n",
    "df = df[df.Series == 'EQ']\n",
    "df.set_index('Date',inplace = True)\n",
    "df_data = pd.DataFrame(df['Close Price'],df.index)\n",
    "df_data.columns = ['Ashoka']"
   ]
  },
  {
   "cell_type": "code",
   "execution_count": 3,
   "metadata": {},
   "outputs": [],
   "source": [
    "df = pd.read_csv('Small_Cap/BAJAJELEC.csv')\n",
    "df['Date'] = df['Date'].astype('datetime64')\n",
    "df = df[df.Series == 'EQ']\n",
    "df.set_index('Date',inplace = True)\n",
    "df_data['Bajaj Elec']  = df['Close Price']\n"
   ]
  },
  {
   "cell_type": "code",
   "execution_count": 4,
   "metadata": {},
   "outputs": [],
   "source": [
    "df = pd.read_csv('Small_Cap/BOMDYEING.csv')\n",
    "df['Date'] = df['Date'].astype('datetime64')\n",
    "df = df[df.Series == 'EQ']\n",
    "df.set_index('Date',inplace = True)\n",
    "df_data['Bombay Dyeing']  = df['Close Price']"
   ]
  },
  {
   "cell_type": "code",
   "execution_count": 5,
   "metadata": {},
   "outputs": [],
   "source": [
    "df = pd.read_csv('Small_Cap/FORTIS.csv')\n",
    "df['Date'] = df['Date'].astype('datetime64')\n",
    "df = df[df.Series == 'EQ']\n",
    "df.set_index('Date',inplace = True)\n",
    "df_data['Fortis']  = df['Close Price']"
   ]
  },
  {
   "cell_type": "code",
   "execution_count": 6,
   "metadata": {},
   "outputs": [],
   "source": [
    "df = pd.read_csv('Small_Cap/ITDC.csv')\n",
    "df['Date'] = df['Date'].astype('datetime64')\n",
    "df = df[df.Series == 'EQ']\n",
    "df.set_index('Date',inplace = True)\n",
    "df_data['IDTC']  = df['Close Price']"
   ]
  },
  {
   "cell_type": "code",
   "execution_count": 7,
   "metadata": {},
   "outputs": [],
   "source": [
    "df = pd.read_csv('Small_Cap/PVR.csv')\n",
    "df['Date'] = df['Date'].astype('datetime64')\n",
    "df = df[df.Series == 'EQ']\n",
    "df.set_index('Date',inplace = True)\n",
    "df_data['PVR']  = df['Close Price']"
   ]
  },
  {
   "cell_type": "code",
   "execution_count": 8,
   "metadata": {},
   "outputs": [],
   "source": [
    "df = pd.read_csv('Small_Cap/RAYMOND.csv')\n",
    "df['Date'] = df['Date'].astype('datetime64')\n",
    "df = df[df.Series == 'EQ']\n",
    "df.set_index('Date',inplace = True)\n",
    "df_data['Raymond']  = df['Close Price']\n"
   ]
  },
  {
   "cell_type": "code",
   "execution_count": 9,
   "metadata": {},
   "outputs": [],
   "source": [
    "df = pd.read_csv('Small_Cap/RCOM.csv')\n",
    "df['Date'] = df['Date'].astype('datetime64')\n",
    "df = df[df.Series == 'EQ']\n",
    "df.set_index('Date',inplace = True)\n",
    "df_data['Rcom']  = df['Close Price']\n"
   ]
  },
  {
   "cell_type": "code",
   "execution_count": 10,
   "metadata": {},
   "outputs": [],
   "source": [
    "df = pd.read_csv('Small_Cap/SUZLON.csv')\n",
    "df['Date'] = df['Date'].astype('datetime64')\n",
    "df = df[df.Series == 'EQ']\n",
    "df.set_index('Date',inplace = True)\n",
    "df_data['Suzlon']  = df['Close Price']\n"
   ]
  },
  {
   "cell_type": "code",
   "execution_count": 11,
   "metadata": {},
   "outputs": [],
   "source": [
    "df = pd.read_csv('Small_Cap/VENKEYS.csv')\n",
    "df['Date'] = df['Date'].astype('datetime64')\n",
    "df = df[df.Series == 'EQ']\n",
    "df.set_index('Date',inplace = True)\n",
    "df_data['Venkeys']  = df['Close Price']\n"
   ]
  },
  {
   "cell_type": "markdown",
   "metadata": {},
   "source": [
    "Mid Caps"
   ]
  },
  {
   "cell_type": "code",
   "execution_count": 12,
   "metadata": {},
   "outputs": [],
   "source": [
    "df = pd.read_csv('Mid_Cap/ADANIPOWER.csv')\n",
    "df['Date'] = df['Date'].astype('datetime64')\n",
    "df = df[df.Series == 'EQ']\n",
    "df.set_index('Date',inplace = True)\n",
    "df_data['Adani Power']  = df['Close Price']"
   ]
  },
  {
   "cell_type": "code",
   "execution_count": 13,
   "metadata": {},
   "outputs": [],
   "source": [
    "df = pd.read_csv('Mid_Cap/APOLLOTYRE.csv')\n",
    "df['Date'] = df['Date'].astype('datetime64')\n",
    "df = df[df.Series == 'EQ']\n",
    "df.set_index('Date',inplace = True)\n",
    "df_data['Apollo Tyre']  = df['Close Price']"
   ]
  },
  {
   "cell_type": "code",
   "execution_count": 14,
   "metadata": {},
   "outputs": [],
   "source": [
    "df = pd.read_csv('Mid_Cap/DHFL.csv')\n",
    "df['Date'] = df['Date'].astype('datetime64')\n",
    "df = df[df.Series == 'EQ']\n",
    "df.set_index('Date',inplace = True)\n",
    "df_data['DHFL']  = df['Close Price']"
   ]
  },
  {
   "cell_type": "code",
   "execution_count": 15,
   "metadata": {},
   "outputs": [],
   "source": [
    "df = pd.read_csv('Mid_Cap/GODREJIND.csv')\n",
    "df['Date'] = df['Date'].astype('datetime64')\n",
    "df = df[df.Series == 'EQ']\n",
    "df.set_index('Date',inplace = True)\n",
    "df_data['Godrej Ind']  = df['Close Price']"
   ]
  },
  {
   "cell_type": "code",
   "execution_count": 16,
   "metadata": {},
   "outputs": [],
   "source": [
    "df = pd.read_csv('Mid_Cap/JINDALSTEL.csv')\n",
    "df['Date'] = df['Date'].astype('datetime64')\n",
    "df = df[df.Series == 'EQ']\n",
    "df.set_index('Date',inplace = True)\n",
    "df_data['Jindal Steel']  = df['Close Price']"
   ]
  },
  {
   "cell_type": "code",
   "execution_count": 17,
   "metadata": {},
   "outputs": [],
   "source": [
    "df = pd.read_csv('Mid_Cap/MINDTREE.csv')\n",
    "df['Date'] = df['Date'].astype('datetime64')\n",
    "df = df[df.Series == 'EQ']\n",
    "df.set_index('Date',inplace = True)\n",
    "df_data['Mind Tree']  = df['Close Price']"
   ]
  },
  {
   "cell_type": "code",
   "execution_count": 18,
   "metadata": {},
   "outputs": [],
   "source": [
    "df = pd.read_csv('Mid_Cap/MUTHOOTFIN.csv')\n",
    "df['Date'] = df['Date'].astype('datetime64')\n",
    "df = df[df.Series == 'EQ']\n",
    "df.set_index('Date',inplace = True)\n",
    "df_data['Muthoot Fin']  = df['Close Price']"
   ]
  },
  {
   "cell_type": "code",
   "execution_count": 19,
   "metadata": {},
   "outputs": [],
   "source": [
    "df = pd.read_csv('Mid_Cap/RELINFRA.csv')\n",
    "df['Date'] = df['Date'].astype('datetime64')\n",
    "df = df[df.Series == 'EQ']\n",
    "df.set_index('Date',inplace = True)\n",
    "df_data['Rel Infra']  = df['Close Price']"
   ]
  },
  {
   "cell_type": "code",
   "execution_count": 20,
   "metadata": {},
   "outputs": [],
   "source": [
    "df = pd.read_csv('Mid_Cap/TATACHEM.csv')\n",
    "df['Date'] = df['Date'].astype('datetime64')\n",
    "df = df[df.Series == 'EQ']\n",
    "df.set_index('Date',inplace = True)\n",
    "df_data['Tata Chem']  = df['Close Price']"
   ]
  },
  {
   "cell_type": "code",
   "execution_count": 21,
   "metadata": {},
   "outputs": [],
   "source": [
    "df = pd.read_csv('Mid_Cap/TATAPOWER.csv')\n",
    "df['Date'] = df['Date'].astype('datetime64')\n",
    "df = df[df.Series == 'EQ']\n",
    "df.set_index('Date',inplace = True)\n",
    "df_data['Tata Power']  = df['Close Price']"
   ]
  },
  {
   "cell_type": "markdown",
   "metadata": {},
   "source": [
    "Large Caps"
   ]
  },
  {
   "cell_type": "code",
   "execution_count": 22,
   "metadata": {},
   "outputs": [],
   "source": [
    "df = pd.read_csv('Large_Cap/ADANIPORTS.csv')\n",
    "df['Date'] = df['Date'].astype('datetime64')\n",
    "df = df[df.Series == 'EQ']\n",
    "df.set_index('Date',inplace = True)\n",
    "df_data['Adani Ports']  = df['Close Price']"
   ]
  },
  {
   "cell_type": "code",
   "execution_count": 23,
   "metadata": {},
   "outputs": [],
   "source": [
    "df = pd.read_csv('Large_Cap/ASIANPAINT.csv')\n",
    "df['Date'] = df['Date'].astype('datetime64')\n",
    "df = df[df.Series == 'EQ']\n",
    "df.set_index('Date',inplace = True)\n",
    "df_data['Asian Paint']  = df['Close Price']"
   ]
  },
  {
   "cell_type": "code",
   "execution_count": 24,
   "metadata": {},
   "outputs": [],
   "source": [
    "df = pd.read_csv('Large_Cap/GAIL.csv')\n",
    "df['Date'] = df['Date'].astype('datetime64')\n",
    "df = df[df.Series == 'EQ']\n",
    "df.set_index('Date',inplace = True)\n",
    "df_data['Gail']  = df['Close Price']"
   ]
  },
  {
   "cell_type": "code",
   "execution_count": 25,
   "metadata": {},
   "outputs": [],
   "source": [
    "df = pd.read_csv('Large_Cap/HINDALCO.csv')\n",
    "df['Date'] = df['Date'].astype('datetime64')\n",
    "df = df[df.Series == 'EQ']\n",
    "df.set_index('Date',inplace = True)\n",
    "df_data['Hindalco']  = df['Close Price']"
   ]
  },
  {
   "cell_type": "code",
   "execution_count": 26,
   "metadata": {},
   "outputs": [],
   "source": [
    "df = pd.read_csv('Large_Cap/HINDUNILVR.csv')\n",
    "df['Date'] = df['Date'].astype('datetime64')\n",
    "df = df[df.Series == 'EQ']\n",
    "df.set_index('Date',inplace = True)\n",
    "df_data['Hind Unilvr']  = df['Close Price']"
   ]
  },
  {
   "cell_type": "code",
   "execution_count": 27,
   "metadata": {},
   "outputs": [],
   "source": [
    "df = pd.read_csv('Large_Cap/ITC.csv')\n",
    "df['Date'] = df['Date'].astype('datetime64')\n",
    "df = df[df.Series == 'EQ']\n",
    "df.set_index('Date',inplace = True)\n",
    "df_data['ITC']  = df['Close Price']"
   ]
  },
  {
   "cell_type": "code",
   "execution_count": 28,
   "metadata": {},
   "outputs": [],
   "source": [
    "df = pd.read_csv('Large_Cap/LT.csv')\n",
    "df['Date'] = df['Date'].astype('datetime64')\n",
    "df = df[df.Series == 'EQ']\n",
    "df.set_index('Date',inplace = True)\n",
    "df_data['LT']  = df['Close Price']"
   ]
  },
  {
   "cell_type": "code",
   "execution_count": 29,
   "metadata": {},
   "outputs": [],
   "source": [
    "df = pd.read_csv('Large_Cap/RELIANCE.csv')\n",
    "df['Date'] = df['Date'].astype('datetime64')\n",
    "df = df[df.Series == 'EQ']\n",
    "df.set_index('Date',inplace = True)\n",
    "df_data['Reliance']  = df['Close Price']"
   ]
  },
  {
   "cell_type": "code",
   "execution_count": 30,
   "metadata": {},
   "outputs": [],
   "source": [
    "df = pd.read_csv('Large_Cap/TCS.csv')\n",
    "df['Date'] = df['Date'].astype('datetime64')\n",
    "df = df[df.Series == 'EQ']\n",
    "df.set_index('Date',inplace = True)\n",
    "df_data['TCS']  = df['Close Price']"
   ]
  },
  {
   "cell_type": "code",
   "execution_count": 31,
   "metadata": {},
   "outputs": [],
   "source": [
    "df = pd.read_csv('Large_Cap/TITAN.csv')\n",
    "df['Date'] = df['Date'].astype('datetime64')\n",
    "df = df[df.Series == 'EQ']\n",
    "df.set_index('Date',inplace = True)\n",
    "df_data['Titan']  = df['Close Price']"
   ]
  },
  {
   "cell_type": "code",
   "execution_count": 32,
   "metadata": {},
   "outputs": [
    {
     "data": {
      "text/html": [
       "<div>\n",
       "<style scoped>\n",
       "    .dataframe tbody tr th:only-of-type {\n",
       "        vertical-align: middle;\n",
       "    }\n",
       "\n",
       "    .dataframe tbody tr th {\n",
       "        vertical-align: top;\n",
       "    }\n",
       "\n",
       "    .dataframe thead th {\n",
       "        text-align: right;\n",
       "    }\n",
       "</style>\n",
       "<table border=\"1\" class=\"dataframe\">\n",
       "  <thead>\n",
       "    <tr style=\"text-align: right;\">\n",
       "      <th></th>\n",
       "      <th>Ashoka</th>\n",
       "      <th>Bajaj Elec</th>\n",
       "      <th>Bombay Dyeing</th>\n",
       "      <th>Fortis</th>\n",
       "      <th>IDTC</th>\n",
       "      <th>PVR</th>\n",
       "      <th>Raymond</th>\n",
       "      <th>Rcom</th>\n",
       "      <th>Suzlon</th>\n",
       "      <th>Venkeys</th>\n",
       "      <th>...</th>\n",
       "      <th>Adani Ports</th>\n",
       "      <th>Asian Paint</th>\n",
       "      <th>Gail</th>\n",
       "      <th>Hindalco</th>\n",
       "      <th>Hind Unilvr</th>\n",
       "      <th>ITC</th>\n",
       "      <th>LT</th>\n",
       "      <th>Reliance</th>\n",
       "      <th>TCS</th>\n",
       "      <th>Titan</th>\n",
       "    </tr>\n",
       "    <tr>\n",
       "      <th>Date</th>\n",
       "      <th></th>\n",
       "      <th></th>\n",
       "      <th></th>\n",
       "      <th></th>\n",
       "      <th></th>\n",
       "      <th></th>\n",
       "      <th></th>\n",
       "      <th></th>\n",
       "      <th></th>\n",
       "      <th></th>\n",
       "      <th></th>\n",
       "      <th></th>\n",
       "      <th></th>\n",
       "      <th></th>\n",
       "      <th></th>\n",
       "      <th></th>\n",
       "      <th></th>\n",
       "      <th></th>\n",
       "      <th></th>\n",
       "      <th></th>\n",
       "      <th></th>\n",
       "    </tr>\n",
       "  </thead>\n",
       "  <tbody>\n",
       "    <tr>\n",
       "      <th>2017-05-15</th>\n",
       "      <td>216.05</td>\n",
       "      <td>341.15</td>\n",
       "      <td>82.20</td>\n",
       "      <td>205.25</td>\n",
       "      <td>650.15</td>\n",
       "      <td>1524.95</td>\n",
       "      <td>772.80</td>\n",
       "      <td>32.00</td>\n",
       "      <td>19.6</td>\n",
       "      <td>1169.70</td>\n",
       "      <td>...</td>\n",
       "      <td>356.20</td>\n",
       "      <td>1148.05</td>\n",
       "      <td>414.00</td>\n",
       "      <td>198.45</td>\n",
       "      <td>983.25</td>\n",
       "      <td>277.95</td>\n",
       "      <td>1742.40</td>\n",
       "      <td>1344.10</td>\n",
       "      <td>2365.10</td>\n",
       "      <td>483.65</td>\n",
       "    </tr>\n",
       "    <tr>\n",
       "      <th>2017-05-16</th>\n",
       "      <td>214.90</td>\n",
       "      <td>347.00</td>\n",
       "      <td>83.40</td>\n",
       "      <td>207.90</td>\n",
       "      <td>636.70</td>\n",
       "      <td>1539.00</td>\n",
       "      <td>785.00</td>\n",
       "      <td>32.10</td>\n",
       "      <td>19.7</td>\n",
       "      <td>1177.00</td>\n",
       "      <td>...</td>\n",
       "      <td>354.50</td>\n",
       "      <td>1142.85</td>\n",
       "      <td>411.40</td>\n",
       "      <td>196.50</td>\n",
       "      <td>1000.40</td>\n",
       "      <td>283.45</td>\n",
       "      <td>1740.70</td>\n",
       "      <td>1356.30</td>\n",
       "      <td>2429.15</td>\n",
       "      <td>488.30</td>\n",
       "    </tr>\n",
       "    <tr>\n",
       "      <th>2017-05-17</th>\n",
       "      <td>217.00</td>\n",
       "      <td>349.85</td>\n",
       "      <td>82.25</td>\n",
       "      <td>205.90</td>\n",
       "      <td>626.75</td>\n",
       "      <td>1530.30</td>\n",
       "      <td>783.65</td>\n",
       "      <td>31.95</td>\n",
       "      <td>19.9</td>\n",
       "      <td>1188.00</td>\n",
       "      <td>...</td>\n",
       "      <td>348.55</td>\n",
       "      <td>1154.95</td>\n",
       "      <td>408.30</td>\n",
       "      <td>198.85</td>\n",
       "      <td>1009.40</td>\n",
       "      <td>281.65</td>\n",
       "      <td>1755.45</td>\n",
       "      <td>1353.10</td>\n",
       "      <td>2455.35</td>\n",
       "      <td>481.75</td>\n",
       "    </tr>\n",
       "    <tr>\n",
       "      <th>2017-05-18</th>\n",
       "      <td>209.65</td>\n",
       "      <td>334.10</td>\n",
       "      <td>78.95</td>\n",
       "      <td>196.85</td>\n",
       "      <td>604.65</td>\n",
       "      <td>1515.05</td>\n",
       "      <td>746.95</td>\n",
       "      <td>31.05</td>\n",
       "      <td>20.0</td>\n",
       "      <td>1156.90</td>\n",
       "      <td>...</td>\n",
       "      <td>347.90</td>\n",
       "      <td>1151.35</td>\n",
       "      <td>404.75</td>\n",
       "      <td>194.00</td>\n",
       "      <td>990.25</td>\n",
       "      <td>277.90</td>\n",
       "      <td>1722.60</td>\n",
       "      <td>1327.35</td>\n",
       "      <td>2536.20</td>\n",
       "      <td>471.65</td>\n",
       "    </tr>\n",
       "    <tr>\n",
       "      <th>2017-05-19</th>\n",
       "      <td>206.25</td>\n",
       "      <td>336.20</td>\n",
       "      <td>77.15</td>\n",
       "      <td>203.55</td>\n",
       "      <td>594.30</td>\n",
       "      <td>1513.55</td>\n",
       "      <td>723.10</td>\n",
       "      <td>30.55</td>\n",
       "      <td>20.6</td>\n",
       "      <td>1161.65</td>\n",
       "      <td>...</td>\n",
       "      <td>349.45</td>\n",
       "      <td>1123.15</td>\n",
       "      <td>401.05</td>\n",
       "      <td>191.00</td>\n",
       "      <td>1008.00</td>\n",
       "      <td>286.20</td>\n",
       "      <td>1724.55</td>\n",
       "      <td>1318.85</td>\n",
       "      <td>2507.15</td>\n",
       "      <td>471.15</td>\n",
       "    </tr>\n",
       "  </tbody>\n",
       "</table>\n",
       "<p>5 rows × 30 columns</p>\n",
       "</div>"
      ],
      "text/plain": [
       "            Ashoka  Bajaj Elec  Bombay Dyeing  Fortis    IDTC      PVR  \\\n",
       "Date                                                                     \n",
       "2017-05-15  216.05      341.15          82.20  205.25  650.15  1524.95   \n",
       "2017-05-16  214.90      347.00          83.40  207.90  636.70  1539.00   \n",
       "2017-05-17  217.00      349.85          82.25  205.90  626.75  1530.30   \n",
       "2017-05-18  209.65      334.10          78.95  196.85  604.65  1515.05   \n",
       "2017-05-19  206.25      336.20          77.15  203.55  594.30  1513.55   \n",
       "\n",
       "            Raymond   Rcom  Suzlon  Venkeys  ...  Adani Ports  Asian Paint  \\\n",
       "Date                                         ...                             \n",
       "2017-05-15   772.80  32.00    19.6  1169.70  ...       356.20      1148.05   \n",
       "2017-05-16   785.00  32.10    19.7  1177.00  ...       354.50      1142.85   \n",
       "2017-05-17   783.65  31.95    19.9  1188.00  ...       348.55      1154.95   \n",
       "2017-05-18   746.95  31.05    20.0  1156.90  ...       347.90      1151.35   \n",
       "2017-05-19   723.10  30.55    20.6  1161.65  ...       349.45      1123.15   \n",
       "\n",
       "              Gail  Hindalco  Hind Unilvr     ITC       LT  Reliance      TCS  \\\n",
       "Date                                                                            \n",
       "2017-05-15  414.00    198.45       983.25  277.95  1742.40   1344.10  2365.10   \n",
       "2017-05-16  411.40    196.50      1000.40  283.45  1740.70   1356.30  2429.15   \n",
       "2017-05-17  408.30    198.85      1009.40  281.65  1755.45   1353.10  2455.35   \n",
       "2017-05-18  404.75    194.00       990.25  277.90  1722.60   1327.35  2536.20   \n",
       "2017-05-19  401.05    191.00      1008.00  286.20  1724.55   1318.85  2507.15   \n",
       "\n",
       "             Titan  \n",
       "Date                \n",
       "2017-05-15  483.65  \n",
       "2017-05-16  488.30  \n",
       "2017-05-17  481.75  \n",
       "2017-05-18  471.65  \n",
       "2017-05-19  471.15  \n",
       "\n",
       "[5 rows x 30 columns]"
      ]
     },
     "execution_count": 32,
     "metadata": {},
     "output_type": "execute_result"
    }
   ],
   "source": [
    "del(df)\n",
    "df_data.head()"
   ]
  },
  {
   "cell_type": "markdown",
   "metadata": {},
   "source": [
    "### Query 6.2\n",
    "Calculate average annual percentage return and volatility of all 30 stocks over a theoretical one year period"
   ]
  },
  {
   "cell_type": "code",
   "execution_count": 33,
   "metadata": {},
   "outputs": [],
   "source": [
    "df_data = df_data.pct_change()*100\n",
    "\n",
    "daily_mean = df_data.mean()\n",
    "daily_std = df_data.std()\n",
    "\n",
    "annual_mean_return = round(daily_mean*252,2)\n",
    "annual_std = round(daily_std*np.sqrt(252),2)"
   ]
  },
  {
   "cell_type": "code",
   "execution_count": 34,
   "metadata": {},
   "outputs": [
    {
     "data": {
      "text/html": [
       "<div>\n",
       "<style scoped>\n",
       "    .dataframe tbody tr th:only-of-type {\n",
       "        vertical-align: middle;\n",
       "    }\n",
       "\n",
       "    .dataframe tbody tr th {\n",
       "        vertical-align: top;\n",
       "    }\n",
       "\n",
       "    .dataframe thead th {\n",
       "        text-align: right;\n",
       "    }\n",
       "</style>\n",
       "<table border=\"1\" class=\"dataframe\">\n",
       "  <thead>\n",
       "    <tr style=\"text-align: right;\">\n",
       "      <th></th>\n",
       "      <th>Stock</th>\n",
       "      <th>Mean</th>\n",
       "      <th>Std Deviation</th>\n",
       "    </tr>\n",
       "  </thead>\n",
       "  <tbody>\n",
       "    <tr>\n",
       "      <th>0</th>\n",
       "      <td>Ashoka</td>\n",
       "      <td>-20.85</td>\n",
       "      <td>44.30</td>\n",
       "    </tr>\n",
       "    <tr>\n",
       "      <th>1</th>\n",
       "      <td>Bajaj Elec</td>\n",
       "      <td>31.61</td>\n",
       "      <td>40.24</td>\n",
       "    </tr>\n",
       "    <tr>\n",
       "      <th>2</th>\n",
       "      <td>Bombay Dyeing</td>\n",
       "      <td>43.16</td>\n",
       "      <td>68.17</td>\n",
       "    </tr>\n",
       "    <tr>\n",
       "      <th>3</th>\n",
       "      <td>Fortis</td>\n",
       "      <td>-14.60</td>\n",
       "      <td>42.13</td>\n",
       "    </tr>\n",
       "    <tr>\n",
       "      <th>4</th>\n",
       "      <td>IDTC</td>\n",
       "      <td>-36.94</td>\n",
       "      <td>52.78</td>\n",
       "    </tr>\n",
       "  </tbody>\n",
       "</table>\n",
       "</div>"
      ],
      "text/plain": [
       "           Stock   Mean  Std Deviation\n",
       "0         Ashoka -20.85          44.30\n",
       "1     Bajaj Elec  31.61          40.24\n",
       "2  Bombay Dyeing  43.16          68.17\n",
       "3         Fortis -14.60          42.13\n",
       "4           IDTC -36.94          52.78"
      ]
     },
     "execution_count": 34,
     "metadata": {},
     "output_type": "execute_result"
    }
   ],
   "source": [
    "data = pd.DataFrame({'Mean' : annual_mean_return.values,\n",
    "                    'Std Deviation' :annual_std})\n",
    "data.reset_index(inplace =True)\n",
    "data = data.rename(columns ={'index':'Stock'})\n",
    "data.head()"
   ]
  },
  {
   "cell_type": "markdown",
   "metadata": {},
   "source": [
    "\n",
    "### Query 6.3\n",
    "Cluster the 30 stocks according to their mean annual Volatilities and Returns using K-means clustering. Identify the optimum number of clusters using the Elbow curve method"
   ]
  },
  {
   "cell_type": "code",
   "execution_count": 35,
   "metadata": {},
   "outputs": [
    {
     "data": {
      "image/png": "[encoded data removed]",
      "text/plain": [
       "<Figure size 432x288 with 1 Axes>"
      ]
     },
     "metadata": {
      "needs_background": "light"
     },
     "output_type": "display_data"
    }
   ],
   "source": [
    "X = data.iloc[:,1:].values\n",
    "name = data.iloc[:,0]\n",
    "from sklearn.cluster import KMeans\n",
    "wcss = []\n",
    "for i in range(1,11):\n",
    "    kmeans = KMeans(n_clusters=i,init='k-means++',max_iter=300,\n",
    "                    n_init = 10,random_state=0)\n",
    "    kmeans.fit(X)\n",
    "    wcss.append(kmeans.inertia_)\n",
    "plt.figure()\n",
    "plt.plot(range(1,11),wcss)\n",
    "plt.title(\"Elbow Method Graph\")\n",
    "plt.xlabel(\"No of clusters\")\n",
    "plt.ylabel(\"WCSS\")\n",
    "plt.show()"
   ]
  },
  {
   "cell_type": "code",
   "execution_count": 36,
   "metadata": {},
   "outputs": [
    {
     "name": "stdout",
     "output_type": "stream",
     "text": [
      "So the optimum number of clusters is 3\n"
     ]
    }
   ],
   "source": [
    "print(\"So the optimum number of clusters is 3\")"
   ]
  },
  {
   "cell_type": "code",
   "execution_count": 37,
   "metadata": {},
   "outputs": [
    {
     "data": {
      "image/png": "[encoded data removed]",
      "text/plain": [
       "<Figure size 864x576 with 1 Axes>"
      ]
     },
     "metadata": {
      "needs_background": "light"
     },
     "output_type": "display_data"
    }
   ],
   "source": [
    "kmeans = KMeans(n_clusters = 3,init='k-means++',max_iter=300,\n",
    "                    n_init = 10,random_state=0)\n",
    "y_kmeans = kmeans.fit_predict(X)\n",
    "\n",
    "plt.figure(figsize = (12,8))\n",
    "plt.scatter(X[y_kmeans==0,0],X[y_kmeans==0,1],s = 100\n",
    "            ,c = 'red',label = 'Cluster 1')\n",
    "\n",
    "plt.scatter(X[y_kmeans==1,0],X[y_kmeans==1,1],s = 100\n",
    "            ,c = 'blue',label = 'Cluster 2')\n",
    "\n",
    "\n",
    "plt.scatter(X[y_kmeans==2,0],X[y_kmeans==2,1],s = 100\n",
    "            ,c = 'black',label = 'Cluster 3')\n",
    "\n",
    "plt.scatter(kmeans.cluster_centers_[:,0],kmeans.cluster_centers_[:,1],\n",
    "            s = 100,c = 'yellow',label = \"Centeroid\")\n",
    "\n",
    "\n",
    "for i, txt in enumerate(name):\n",
    "    plt.annotate(txt, (X[i,0], X[i,1]))\n",
    "\n",
    "plt.title(\"Cluster of Stocks\")\n",
    "plt.xlabel(\"Mean\")\n",
    "plt.ylabel(\"Std Deviation\")\n",
    "plt.legend()\n",
    "\n",
    "plt.show()"
   ]
  },
  {
   "cell_type": "markdown",
   "metadata": {},
   "source": [
    "\n",
    "### Query 6.4\n",
    "Prepare a separate Data frame to show which stocks belong to the same cluster "
   ]
  },
  {
   "cell_type": "code",
   "execution_count": 38,
   "metadata": {},
   "outputs": [
    {
     "data": {
      "text/plain": [
       "['IDTC', 'Rcom', 'Suzlon', 'DHFL', 'Rel Infra']"
      ]
     },
     "execution_count": 38,
     "metadata": {},
     "output_type": "execute_result"
    }
   ],
   "source": [
    "cluster_1 = name[y_kmeans==0]\n",
    "cluster_1 = list(cluster_1)\n",
    "cluster_1"
   ]
  },
  {
   "cell_type": "code",
   "execution_count": 39,
   "metadata": {},
   "outputs": [
    {
     "data": {
      "text/plain": [
       "['Ashoka',\n",
       " 'Fortis',\n",
       " 'PVR',\n",
       " 'Raymond',\n",
       " 'Apollo Tyre',\n",
       " 'Godrej Ind',\n",
       " 'Tata Chem',\n",
       " 'Tata Power',\n",
       " 'Adani Ports',\n",
       " 'Asian Paint',\n",
       " 'Gail',\n",
       " 'Hindalco',\n",
       " 'ITC',\n",
       " 'LT',\n",
       " 'Reliance',\n",
       " 'TCS']"
      ]
     },
     "execution_count": 39,
     "metadata": {},
     "output_type": "execute_result"
    }
   ],
   "source": [
    "cluster_2 = name[y_kmeans==1]\n",
    "cluster_2 = list(cluster_2)\n",
    "cluster_2"
   ]
  },
  {
   "cell_type": "code",
   "execution_count": 40,
   "metadata": {},
   "outputs": [
    {
     "data": {
      "text/plain": [
       "['Bajaj Elec',\n",
       " 'Bombay Dyeing',\n",
       " 'Venkeys',\n",
       " 'Adani Power',\n",
       " 'Jindal Steel',\n",
       " 'Mind Tree',\n",
       " 'Muthoot Fin',\n",
       " 'Hind Unilvr',\n",
       " 'Titan']"
      ]
     },
     "execution_count": 40,
     "metadata": {},
     "output_type": "execute_result"
    }
   ],
   "source": [
    "cluster_3 = name[y_kmeans==2]\n",
    "cluster_3 = list(cluster_3)\n",
    "cluster_3"
   ]
  },
  {
   "cell_type": "code",
   "execution_count": 41,
   "metadata": {},
   "outputs": [],
   "source": [
    "cluster = pd.DataFrame({\"Cluster 1\" : 'No',\"Cluster 2\" : 'No',\"Cluster 3\" : 'No'},data['Stock'])"
   ]
  },
  {
   "cell_type": "code",
   "execution_count": 42,
   "metadata": {},
   "outputs": [],
   "source": [
    "for i in range(len(data['Stock'])):\n",
    "    if data['Stock'][i] in cluster_1:\n",
    "        cluster['Cluster 1'][i] = 'Yes'\n",
    "    if data['Stock'][i] in cluster_2:\n",
    "        cluster['Cluster 2'][i] = 'Yes'\n",
    "    if data['Stock'][i] in cluster_3:\n",
    "        cluster['Cluster 3'][i] = 'Yes'"
   ]
  },
  {
   "cell_type": "code",
   "execution_count": 43,
   "metadata": {},
   "outputs": [
    {
     "data": {
      "text/html": [
       "<div>\n",
       "<style scoped>\n",
       "    .dataframe tbody tr th:only-of-type {\n",
       "        vertical-align: middle;\n",
       "    }\n",
       "\n",
       "    .dataframe tbody tr th {\n",
       "        vertical-align: top;\n",
       "    }\n",
       "\n",
       "    .dataframe thead th {\n",
       "        text-align: right;\n",
       "    }\n",
       "</style>\n",
       "<table border=\"1\" class=\"dataframe\">\n",
       "  <thead>\n",
       "    <tr style=\"text-align: right;\">\n",
       "      <th></th>\n",
       "      <th>Cluster 1</th>\n",
       "      <th>Cluster 2</th>\n",
       "      <th>Cluster 3</th>\n",
       "    </tr>\n",
       "    <tr>\n",
       "      <th>Stock</th>\n",
       "      <th></th>\n",
       "      <th></th>\n",
       "      <th></th>\n",
       "    </tr>\n",
       "  </thead>\n",
       "  <tbody>\n",
       "    <tr>\n",
       "      <th>Ashoka</th>\n",
       "      <td>No</td>\n",
       "      <td>Yes</td>\n",
       "      <td>No</td>\n",
       "    </tr>\n",
       "    <tr>\n",
       "      <th>Bajaj Elec</th>\n",
       "      <td>No</td>\n",
       "      <td>No</td>\n",
       "      <td>Yes</td>\n",
       "    </tr>\n",
       "    <tr>\n",
       "      <th>Bombay Dyeing</th>\n",
       "      <td>No</td>\n",
       "      <td>No</td>\n",
       "      <td>Yes</td>\n",
       "    </tr>\n",
       "    <tr>\n",
       "      <th>Fortis</th>\n",
       "      <td>No</td>\n",
       "      <td>Yes</td>\n",
       "      <td>No</td>\n",
       "    </tr>\n",
       "    <tr>\n",
       "      <th>IDTC</th>\n",
       "      <td>Yes</td>\n",
       "      <td>No</td>\n",
       "      <td>No</td>\n",
       "    </tr>\n",
       "    <tr>\n",
       "      <th>PVR</th>\n",
       "      <td>No</td>\n",
       "      <td>Yes</td>\n",
       "      <td>No</td>\n",
       "    </tr>\n",
       "    <tr>\n",
       "      <th>Raymond</th>\n",
       "      <td>No</td>\n",
       "      <td>Yes</td>\n",
       "      <td>No</td>\n",
       "    </tr>\n",
       "    <tr>\n",
       "      <th>Rcom</th>\n",
       "      <td>Yes</td>\n",
       "      <td>No</td>\n",
       "      <td>No</td>\n",
       "    </tr>\n",
       "    <tr>\n",
       "      <th>Suzlon</th>\n",
       "      <td>Yes</td>\n",
       "      <td>No</td>\n",
       "      <td>No</td>\n",
       "    </tr>\n",
       "    <tr>\n",
       "      <th>Venkeys</th>\n",
       "      <td>No</td>\n",
       "      <td>No</td>\n",
       "      <td>Yes</td>\n",
       "    </tr>\n",
       "    <tr>\n",
       "      <th>Adani Power</th>\n",
       "      <td>No</td>\n",
       "      <td>No</td>\n",
       "      <td>Yes</td>\n",
       "    </tr>\n",
       "    <tr>\n",
       "      <th>Apollo Tyre</th>\n",
       "      <td>No</td>\n",
       "      <td>Yes</td>\n",
       "      <td>No</td>\n",
       "    </tr>\n",
       "    <tr>\n",
       "      <th>DHFL</th>\n",
       "      <td>Yes</td>\n",
       "      <td>No</td>\n",
       "      <td>No</td>\n",
       "    </tr>\n",
       "    <tr>\n",
       "      <th>Godrej Ind</th>\n",
       "      <td>No</td>\n",
       "      <td>Yes</td>\n",
       "      <td>No</td>\n",
       "    </tr>\n",
       "    <tr>\n",
       "      <th>Jindal Steel</th>\n",
       "      <td>No</td>\n",
       "      <td>No</td>\n",
       "      <td>Yes</td>\n",
       "    </tr>\n",
       "    <tr>\n",
       "      <th>Mind Tree</th>\n",
       "      <td>No</td>\n",
       "      <td>No</td>\n",
       "      <td>Yes</td>\n",
       "    </tr>\n",
       "    <tr>\n",
       "      <th>Muthoot Fin</th>\n",
       "      <td>No</td>\n",
       "      <td>No</td>\n",
       "      <td>Yes</td>\n",
       "    </tr>\n",
       "    <tr>\n",
       "      <th>Rel Infra</th>\n",
       "      <td>Yes</td>\n",
       "      <td>No</td>\n",
       "      <td>No</td>\n",
       "    </tr>\n",
       "    <tr>\n",
       "      <th>Tata Chem</th>\n",
       "      <td>No</td>\n",
       "      <td>Yes</td>\n",
       "      <td>No</td>\n",
       "    </tr>\n",
       "    <tr>\n",
       "      <th>Tata Power</th>\n",
       "      <td>No</td>\n",
       "      <td>Yes</td>\n",
       "      <td>No</td>\n",
       "    </tr>\n",
       "    <tr>\n",
       "      <th>Adani Ports</th>\n",
       "      <td>No</td>\n",
       "      <td>Yes</td>\n",
       "      <td>No</td>\n",
       "    </tr>\n",
       "    <tr>\n",
       "      <th>Asian Paint</th>\n",
       "      <td>No</td>\n",
       "      <td>Yes</td>\n",
       "      <td>No</td>\n",
       "    </tr>\n",
       "    <tr>\n",
       "      <th>Gail</th>\n",
       "      <td>No</td>\n",
       "      <td>Yes</td>\n",
       "      <td>No</td>\n",
       "    </tr>\n",
       "    <tr>\n",
       "      <th>Hindalco</th>\n",
       "      <td>No</td>\n",
       "      <td>Yes</td>\n",
       "      <td>No</td>\n",
       "    </tr>\n",
       "    <tr>\n",
       "      <th>Hind Unilvr</th>\n",
       "      <td>No</td>\n",
       "      <td>No</td>\n",
       "      <td>Yes</td>\n",
       "    </tr>\n",
       "    <tr>\n",
       "      <th>ITC</th>\n",
       "      <td>No</td>\n",
       "      <td>Yes</td>\n",
       "      <td>No</td>\n",
       "    </tr>\n",
       "    <tr>\n",
       "      <th>LT</th>\n",
       "      <td>No</td>\n",
       "      <td>Yes</td>\n",
       "      <td>No</td>\n",
       "    </tr>\n",
       "    <tr>\n",
       "      <th>Reliance</th>\n",
       "      <td>No</td>\n",
       "      <td>Yes</td>\n",
       "      <td>No</td>\n",
       "    </tr>\n",
       "    <tr>\n",
       "      <th>TCS</th>\n",
       "      <td>No</td>\n",
       "      <td>Yes</td>\n",
       "      <td>No</td>\n",
       "    </tr>\n",
       "    <tr>\n",
       "      <th>Titan</th>\n",
       "      <td>No</td>\n",
       "      <td>No</td>\n",
       "      <td>Yes</td>\n",
       "    </tr>\n",
       "  </tbody>\n",
       "</table>\n",
       "</div>"
      ],
      "text/plain": [
       "              Cluster 1 Cluster 2 Cluster 3\n",
       "Stock                                      \n",
       "Ashoka               No       Yes        No\n",
       "Bajaj Elec           No        No       Yes\n",
       "Bombay Dyeing        No        No       Yes\n",
       "Fortis               No       Yes        No\n",
       "IDTC                Yes        No        No\n",
       "PVR                  No       Yes        No\n",
       "Raymond              No       Yes        No\n",
       "Rcom                Yes        No        No\n",
       "Suzlon              Yes        No        No\n",
       "Venkeys              No        No       Yes\n",
       "Adani Power          No        No       Yes\n",
       "Apollo Tyre          No       Yes        No\n",
       "DHFL                Yes        No        No\n",
       "Godrej Ind           No       Yes        No\n",
       "Jindal Steel         No        No       Yes\n",
       "Mind Tree            No        No       Yes\n",
       "Muthoot Fin          No        No       Yes\n",
       "Rel Infra           Yes        No        No\n",
       "Tata Chem            No       Yes        No\n",
       "Tata Power           No       Yes        No\n",
       "Adani Ports          No       Yes        No\n",
       "Asian Paint          No       Yes        No\n",
       "Gail                 No       Yes        No\n",
       "Hindalco             No       Yes        No\n",
       "Hind Unilvr          No        No       Yes\n",
       "ITC                  No       Yes        No\n",
       "LT                   No       Yes        No\n",
       "Reliance             No       Yes        No\n",
       "TCS                  No       Yes        No\n",
       "Titan                No        No       Yes"
      ]
     },
     "execution_count": 43,
     "metadata": {},
     "output_type": "execute_result"
    }
   ],
   "source": [
    "cluster"
   ]
  },
  {
   "cell_type": "code",
   "execution_count": null,
   "metadata": {},
   "outputs": [],
   "source": []
  },
  {
   "cell_type": "code",
   "execution_count": null,
   "metadata": {},
   "outputs": [],
   "source": []
  },
  {
   "cell_type": "code",
   "execution_count": null,
   "metadata": {},
   "outputs": [],
   "source": []
  }
 ],
 "metadata": {
  "kernelspec": {
   "display_name": "Python 3",
   "language": "python",
   "name": "python3"
  },
  "language_info": {
   "codemirror_mode": {
    "name": "ipython",
    "version": 3
   },
   "file_extension": ".py",
   "mimetype": "text/x-python",
   "name": "python",
   "nbconvert_exporter": "python",
   "pygments_lexer": "ipython3",
   "version": "3.7.3"
  }
 },
 "nbformat": 4,
 "nbformat_minor": 2
}
